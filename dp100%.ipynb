{
 "cells": [
  {
   "cell_type": "code",
   "execution_count": 6,
   "id": "dd26f2af",
   "metadata": {},
   "outputs": [],
   "source": [
    "import numpy as np\n",
    "import pandas as pd\n",
    "import matplotlib.pyplot as plt\n",
    "import warnings\n",
    "import os\n",
    "warnings.filterwarnings(\"ignore\")"
   ]
  },
  {
   "cell_type": "code",
   "execution_count": 7,
   "id": "97a4320a",
   "metadata": {},
   "outputs": [],
   "source": [
    "# Setting the parameter to plot at 30x15 size\n",
    "plt.rcParams['figure.figsize'] = 30, 15"
   ]
  },
  {
   "cell_type": "code",
   "execution_count": 8,
   "id": "449f695b",
   "metadata": {},
   "outputs": [],
   "source": [
    "root_folder_train = r'C:\\Users\\hp\\Desktop\\rwork\\train'\n",
    "root_folder_test = r'C:\\Users\\hp\\Desktop\\rwork\\test'\n",
    "category = ['Normal', 'Abnormal']\n",
    "destination = r'C:\\Users\\hp\\Desktop\\New folder'"
   ]
  },
  {
   "cell_type": "code",
   "execution_count": 9,
   "id": "9770dff3",
   "metadata": {},
   "outputs": [],
   "source": [
    "# Function to load the dataset and do the required formatting to be able to feed the data into the Keras Model\n",
    "def load_data(root_folder):\n",
    "    # These are delcarations of variables that have been used inside the for loop\n",
    "    final_list = list()\n",
    "    labels = list()\n",
    "    # It is iterating through both the categories Normal and Abnormal\n",
    "    for cat in category:\n",
    "        # It is taking and processing each file in the folder\n",
    "        #for filename in os.listdir(root_folder+cat):\n",
    "        for filename in os.listdir(os.path.join(root_folder, cat)):\n",
    "            \n",
    "            # Read each file for each category and drop the unnecessary columns\n",
    "            path = os.path.join(root_folder, cat, filename)\n",
    "            #path = root_folder + cat + '\\\\' + filename\n",
    "            df = pd.read_csv(path) # Read the CSV using inbuilt Pandas Function\n",
    "            df.drop(index=0, axis=0, inplace=True) # Drop the first row, which contains the units of measurement (useless for our use case)\n",
    "            df=df.iloc[:7680]\n",
    "            df.columns = [\"time\", \"ECG0\", \"ECG1\"] # Rename the columns for convinience and easy access of the columns\n",
    "            df.drop(['time'], axis=1, inplace=True) # Drop the time column, as we are not using it as a time series. We are using the indexes instead\n",
    "            df.ECG0 = pd.to_numeric(df.ECG0) # The data by default is in the form of an object, Convert each row into numeric or floating point\n",
    "            df.ECG1 = pd.to_numeric(df.ECG1)\n",
    "            \n",
    "            print(filename, len(df))\n",
    "            \n",
    "            # Split each file into 6 parts and then make each of them a new row by transposing\n",
    "            df_split = np.array_split(df, 30) # Split the dataset into 30 different sets. This is not mandatory, but is suggested since the dataset size is less\n",
    "            for splitted_array in df_split:\n",
    "                final_list.append(np.array(splitted_array)) # After splitting, we are appending all the splitted arrays into 1 single large array of 3 dimentions\n",
    "                # The following if-else block is used to create labels. We have taken '1' for AF ECG and '0' for Normal ECG\n",
    "                # This is not the ideal way to create labels, but this is the most simplest way for this situation\n",
    "                if cat == 'Normal':\n",
    "                    labels.append(0)\n",
    "                if cat == 'Abnormal':\n",
    "                    labels.append(1)\n",
    "\n",
    "    # Before returning, convert the lists to arrays and increase the dmentions for being able to feed into the Neural Network\n",
    "    return np.array(final_list), np.expand_dims(np.array(labels), axis=1)"
   ]
  },
  {
   "cell_type": "code",
   "execution_count": 10,
   "id": "02df1703",
   "metadata": {},
   "outputs": [
    {
     "name": "stdout",
     "output_type": "stream",
     "text": [
      "samples (10).csv 7680\n",
      "samples (11).csv 7680\n",
      "samples (12).csv 7680\n",
      "samples (13).csv 7680\n",
      "samples (14).csv 7680\n",
      "samples (15).csv 7680\n",
      "samples (3).csv 7680\n",
      "samples (4).csv 7680\n",
      "samples (5).csv 7680\n",
      "samples (6).csv 7680\n",
      "samples (7).csv 7680\n",
      "samples (8).csv 7680\n",
      "samples (9).csv 7680\n",
      "samples (10).csv 7680\n",
      "samples (11).csv 7680\n",
      "samples (12).csv 7680\n",
      "samples (13).csv 7680\n",
      "samples (14).csv 7680\n",
      "samples (3).csv 7680\n",
      "samples (4).csv 7680\n",
      "samples (5).csv 7680\n",
      "samples (6).csv 7680\n",
      "samples (7).csv 7680\n",
      "samples (8).csv 7680\n",
      "samples (9).csv 7680\n",
      "samples.csv 7680\n",
      "samples (1).csv 7680\n",
      "samples (2).csv 7680\n",
      "samples (1).csv 7680\n",
      "samples (2).csv 7680\n",
      "(780, 256, 2) (780, 1)\n",
      "(120, 256, 2) (120, 1)\n"
     ]
    }
   ],
   "source": [
    "# Load the training and testing dataset separately by calling the function for each of their root folder locations\n",
    "X_train, y_train = load_data(root_folder_train)\n",
    "X_test, y_test = load_data(root_folder_test)\n",
    "print(X_train.shape, y_train.shape)\n",
    "print(X_test.shape, y_test.shape)"
   ]
  },
  {
   "cell_type": "code",
   "execution_count": 12,
   "id": "46c748f7",
   "metadata": {},
   "outputs": [],
   "source": [
    "# Save the formatted data for easy access later. This is then loaded and used for the neural network\n",
    "np.save(r'C:\\Users\\hp\\Desktop/X_train.npy', X_train)\n",
    "np.save(r'C:\\Users\\hp\\Desktop/y_train.npy', y_train)\n",
    "np.save(r'C:\\Users\\hp\\Desktop/X_test.npy', X_test)\n",
    "np.save(r'C:\\Users\\hp\\Desktop/y_test.npy', y_test)"
   ]
  }
 ],
 "metadata": {
  "kernelspec": {
   "display_name": "Python 3 (ipykernel)",
   "language": "python",
   "name": "python3"
  },
  "language_info": {
   "codemirror_mode": {
    "name": "ipython",
    "version": 3
   },
   "file_extension": ".py",
   "mimetype": "text/x-python",
   "name": "python",
   "nbconvert_exporter": "python",
   "pygments_lexer": "ipython3",
   "version": "3.11.4"
  }
 },
 "nbformat": 4,
 "nbformat_minor": 5
}
